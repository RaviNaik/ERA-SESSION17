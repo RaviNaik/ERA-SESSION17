{
 "cells": [
  {
   "cell_type": "markdown",
   "metadata": {},
   "source": [
    "### Import Libraries"
   ]
  },
  {
   "cell_type": "code",
   "execution_count": 1,
   "metadata": {},
   "outputs": [],
   "source": [
    "import warnings\n",
    "\n",
    "warnings.filterwarnings(\"ignore\")\n"
   ]
  },
  {
   "cell_type": "code",
   "execution_count": 2,
   "metadata": {},
   "outputs": [],
   "source": [
    "import hydra\n",
    "from hydra import initialize, compose\n",
    "import torch\n",
    "import matplotlib.pyplot as plt\n",
    "import lightning as L\n",
    "from lightning.pytorch.tuner import Tuner\n",
    "from lightning.pytorch.callbacks import ModelSummary, ModelCheckpoint"
   ]
  },
  {
   "cell_type": "code",
   "execution_count": 3,
   "metadata": {},
   "outputs": [],
   "source": [
    "from src.models.transformer import Transformer\n",
    "from src.data.gpt_data import GPTDataModule\n"
   ]
  },
  {
   "cell_type": "markdown",
   "metadata": {},
   "source": [
    "### Load Config"
   ]
  },
  {
   "cell_type": "code",
   "execution_count": 4,
   "metadata": {},
   "outputs": [],
   "source": [
    "try:\n",
    "    initialize(version_base=\"1.3\", config_path=\".\", job_name=\"all\")\n",
    "except ValueError:\n",
    "    hydra.core.global_hydra.GlobalHydra.instance().clear()\n",
    "    initialize(version_base=\"1.3\", config_path=\".\", job_name=\"all\")\n",
    "\n",
    "cfg = compose(config_name=\"config\")\n"
   ]
  },
  {
   "cell_type": "markdown",
   "metadata": {},
   "source": [
    "### Load the Data"
   ]
  },
  {
   "cell_type": "code",
   "execution_count": 5,
   "metadata": {},
   "outputs": [
    {
     "name": "stderr",
     "output_type": "stream",
     "text": [
      "Token indices sequence length is longer than the specified maximum sequence length for this model (37443 > 512). Running this sequence through the model will result in indexing errors\n"
     ]
    }
   ],
   "source": [
    "datamodule = GPTDataModule(\n",
    "    seq_len=cfg.gpt.seq_len,\n",
    "    path_do_data=f\"{cfg.gpt.data}/english.txt\",\n",
    "    batch_size=cfg.gpt.batch_size,\n",
    ")\n",
    "datamodule.setup()\n"
   ]
  },
  {
   "cell_type": "markdown",
   "metadata": {},
   "source": [
    "### Initilize the model"
   ]
  },
  {
   "cell_type": "code",
   "execution_count": 6,
   "metadata": {},
   "outputs": [],
   "source": [
    "gpt = Transformer(\n",
    "    arch=\"gpt\",\n",
    "    d_model=cfg.gpt.embed_size,\n",
    "    max_len=cfg.gpt.seq_len,\n",
    "    num_heads=cfg.gpt.n_heads,\n",
    "    num_layers=cfg.gpt.n_layers,\n",
    "    num_classes=cfg.gpt.n_vocab,\n",
    "    d_ff=cfg.gpt.inner_ff_size,\n",
    "    dropout=cfg.gpt.dropout,\n",
    "    lr=cfg.gpt.lr,\n",
    "    weight_decay=cfg.gpt.weight_decay,\n",
    "    betas=cfg.gpt.betas,\n",
    ")\n"
   ]
  },
  {
   "cell_type": "code",
   "execution_count": 7,
   "metadata": {},
   "outputs": [],
   "source": [
    "callbacks = [\n",
    "    ModelSummary(max_depth=3),\n",
    "    ModelCheckpoint(\n",
    "        dirpath=f\"./model_checkpoints/gpt\",\n",
    "        filename=\"gpt_{epoch}\",\n",
    "        monitor=\"train_loss\",\n",
    "        mode=\"min\",\n",
    "        save_last=True,\n",
    "    ),\n",
    "]\n"
   ]
  },
  {
   "cell_type": "markdown",
   "metadata": {},
   "source": [
    "### Initialize trainer"
   ]
  },
  {
   "cell_type": "code",
   "execution_count": 8,
   "metadata": {},
   "outputs": [
    {
     "name": "stderr",
     "output_type": "stream",
     "text": [
      "Trainer already configured with model summary callbacks: [<class 'lightning.pytorch.callbacks.model_summary.ModelSummary'>]. Skipping setting a default `ModelSummary` callback.\n",
      "GPU available: True (cuda), used: True\n",
      "TPU available: False, using: 0 TPU cores\n",
      "IPU available: False, using: 0 IPUs\n",
      "HPU available: False, using: 0 HPUs\n"
     ]
    }
   ],
   "source": [
    "trainer = L.Trainer(\n",
    "    accelerator=\"gpu\",\n",
    "    devices=[1],\n",
    "    num_nodes=1,\n",
    "    max_epochs=10,\n",
    "    callbacks=callbacks,\n",
    "    limit_val_batches=0,\n",
    ")\n"
   ]
  },
  {
   "cell_type": "markdown",
   "metadata": {},
   "source": [
    "### Begin Training"
   ]
  },
  {
   "cell_type": "code",
   "execution_count": 9,
   "metadata": {},
   "outputs": [
    {
     "name": "stderr",
     "output_type": "stream",
     "text": [
      "You are using a CUDA device ('NVIDIA RTX A6000') that has Tensor Cores. To properly utilize them, you should set `torch.set_float32_matmul_precision('medium' | 'high')` which will trade-off precision for performance. For more details, read https://pytorch.org/docs/stable/generated/torch.set_float32_matmul_precision.html#torch.set_float32_matmul_precision\n"
     ]
    },
    {
     "name": "stderr",
     "output_type": "stream",
     "text": [
      "LOCAL_RANK: 0 - CUDA_VISIBLE_DEVICES: [0,1]\n",
      "\n",
      "   | Name                             | Type                    | Params\n",
      "------------------------------------------------------------------------------\n",
      "0  | embedding                        | Embeddings              | 23.4 M\n",
      "1  | embedding.lut                    | Embedding               | 23.4 M\n",
      "2  | pe                               | PositionalEncoding      | 0     \n",
      "3  | embedding_dropout                | Dropout                 | 0     \n",
      "4  | transformer_layers               | Sequential              | 42.5 M\n",
      "5  | transformer_layers.0             | TransformerLayer        | 7.1 M \n",
      "6  | transformer_layers.0.mha         | MultiheadAttention      | 2.4 M \n",
      "7  | transformer_layers.0.ln1         | LayerNorm               | 1.5 K \n",
      "8  | transformer_layers.0.ln2         | LayerNorm               | 1.5 K \n",
      "9  | transformer_layers.0.feedforward | PositionwiseFeedForward | 4.7 M \n",
      "10 | transformer_layers.1             | TransformerLayer        | 7.1 M \n",
      "11 | transformer_layers.1.mha         | MultiheadAttention      | 2.4 M \n",
      "12 | transformer_layers.1.ln1         | LayerNorm               | 1.5 K \n",
      "13 | transformer_layers.1.ln2         | LayerNorm               | 1.5 K \n",
      "14 | transformer_layers.1.feedforward | PositionwiseFeedForward | 4.7 M \n",
      "15 | transformer_layers.2             | TransformerLayer        | 7.1 M \n",
      "16 | transformer_layers.2.mha         | MultiheadAttention      | 2.4 M \n",
      "17 | transformer_layers.2.ln1         | LayerNorm               | 1.5 K \n",
      "18 | transformer_layers.2.ln2         | LayerNorm               | 1.5 K \n",
      "19 | transformer_layers.2.feedforward | PositionwiseFeedForward | 4.7 M \n",
      "20 | transformer_layers.3             | TransformerLayer        | 7.1 M \n",
      "21 | transformer_layers.3.mha         | MultiheadAttention      | 2.4 M \n",
      "22 | transformer_layers.3.ln1         | LayerNorm               | 1.5 K \n",
      "23 | transformer_layers.3.ln2         | LayerNorm               | 1.5 K \n",
      "24 | transformer_layers.3.feedforward | PositionwiseFeedForward | 4.7 M \n",
      "25 | transformer_layers.4             | TransformerLayer        | 7.1 M \n",
      "26 | transformer_layers.4.mha         | MultiheadAttention      | 2.4 M \n",
      "27 | transformer_layers.4.ln1         | LayerNorm               | 1.5 K \n",
      "28 | transformer_layers.4.ln2         | LayerNorm               | 1.5 K \n",
      "29 | transformer_layers.4.feedforward | PositionwiseFeedForward | 4.7 M \n",
      "30 | transformer_layers.5             | TransformerLayer        | 7.1 M \n",
      "31 | transformer_layers.5.mha         | MultiheadAttention      | 2.4 M \n",
      "32 | transformer_layers.5.ln1         | LayerNorm               | 1.5 K \n",
      "33 | transformer_layers.5.ln2         | LayerNorm               | 1.5 K \n",
      "34 | transformer_layers.5.feedforward | PositionwiseFeedForward | 4.7 M \n",
      "35 | lm_head                          | Linear                  | 23.5 M\n",
      "36 | softmax                          | Softmax                 | 0     \n",
      "------------------------------------------------------------------------------\n",
      "89.4 M    Trainable params\n",
      "0         Non-trainable params\n",
      "89.4 M    Total params\n",
      "357.758   Total estimated model params size (MB)\n"
     ]
    },
    {
     "data": {
      "application/vnd.jupyter.widget-view+json": {
       "model_id": "9b801d17314742569d6296ef2a9f5bdc",
       "version_major": 2,
       "version_minor": 0
      },
      "text/plain": [
       "Training: 0it [00:00, ?it/s]"
      ]
     },
     "metadata": {},
     "output_type": "display_data"
    },
    {
     "name": "stderr",
     "output_type": "stream",
     "text": [
      "`Trainer.fit` stopped: `max_epochs=10` reached.\n"
     ]
    }
   ],
   "source": [
    "trainer.fit(model=gpt, datamodule=datamodule)\n"
   ]
  },
  {
   "cell_type": "code",
   "execution_count": null,
   "metadata": {},
   "outputs": [],
   "source": []
  },
  {
   "cell_type": "code",
   "execution_count": null,
   "metadata": {},
   "outputs": [],
   "source": []
  },
  {
   "cell_type": "code",
   "execution_count": null,
   "metadata": {},
   "outputs": [],
   "source": []
  }
 ],
 "metadata": {
  "kernelspec": {
   "display_name": "Python 3",
   "language": "python",
   "name": "python3"
  },
  "language_info": {
   "codemirror_mode": {
    "name": "ipython",
    "version": 3
   },
   "file_extension": ".py",
   "mimetype": "text/x-python",
   "name": "python",
   "nbconvert_exporter": "python",
   "pygments_lexer": "ipython3",
   "version": "3.10.12"
  }
 },
 "nbformat": 4,
 "nbformat_minor": 2
}
